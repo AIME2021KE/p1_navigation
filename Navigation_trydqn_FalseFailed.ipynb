{
 "cells": [
  {
   "cell_type": "markdown",
   "metadata": {},
   "source": [
    "# Navigation\n",
    "\n",
    "---\n",
    "\n",
    "In this notebook, you will learn how to use the Unity ML-Agents environment for the first project of the [Deep Reinforcement Learning Nanodegree](https://www.udacity.com/course/deep-reinforcement-learning-nanodegree--nd893).\n",
    "\n",
    "### 1. Start the Environment\n",
    "\n",
    "We begin by importing some necessary packages.  If the code cell below returns an error, please revisit the project instructions to double-check that you have installed [Unity ML-Agents](https://github.com/Unity-Technologies/ml-agents/blob/master/docs/Installation.md) and [NumPy](http://www.numpy.org/)."
   ]
  },
  {
   "cell_type": "code",
   "execution_count": 1,
   "metadata": {},
   "outputs": [],
   "source": [
    "from unityagents import UnityEnvironment\n",
    "import numpy as np\n",
    "import torch"
   ]
  },
  {
   "cell_type": "code",
   "execution_count": 2,
   "metadata": {},
   "outputs": [],
   "source": [
    "import matplotlib.pyplot as plt\n",
    "get_ipython().run_line_magic('matplotlib', 'inline')\n",
    "\n",
    "#get_ipython().system('python -m pip install pyvirtualdisplay')\n",
    "#from pyvirtualdisplay import Display\n",
    "#display = Display(visible=0, size=(1400, 900))\n",
    "#display.start()\n",
    "\n",
    "is_ipython = 'inline' in plt.get_backend()\n",
    "if is_ipython:\n",
    "    from IPython import display\n",
    "\n",
    "plt.ion()\n"
   ]
  },
  {
   "cell_type": "code",
   "execution_count": 3,
   "metadata": {},
   "outputs": [],
   "source": [
    "from collections import deque"
   ]
  },
  {
   "cell_type": "markdown",
   "metadata": {},
   "source": [
    "Next, we will start the environment!  **_Before running the code cell below_**, change the `file_name` parameter to match the location of the Unity environment that you downloaded.\n",
    "\n",
    "- **Mac**: `\"path/to/Banana.app\"`\n",
    "- **Windows** (x86): `\"path/to/Banana_Windows_x86/Banana.exe\"`\n",
    "- **Windows** (x86_64): `\"path/to/Banana_Windows_x86_64/Banana.exe\"`\n",
    "- **Linux** (x86): `\"path/to/Banana_Linux/Banana.x86\"`\n",
    "- **Linux** (x86_64): `\"path/to/Banana_Linux/Banana.x86_64\"`\n",
    "- **Linux** (x86, headless): `\"path/to/Banana_Linux_NoVis/Banana.x86\"`\n",
    "- **Linux** (x86_64, headless): `\"path/to/Banana_Linux_NoVis/Banana.x86_64\"`\n",
    "\n",
    "For instance, if you are using a Mac, then you downloaded `Banana.app`.  If this file is in the same folder as the notebook, then the line below should appear as follows:\n",
    "```\n",
    "env = UnityEnvironment(file_name=\"Banana.app\")\n",
    "```"
   ]
  },
  {
   "cell_type": "code",
   "execution_count": 4,
   "metadata": {},
   "outputs": [
    {
     "name": "stderr",
     "output_type": "stream",
     "text": [
      "INFO:unityagents:\n",
      "'Academy' started successfully!\n",
      "Unity Academy name: Academy\n",
      "        Number of Brains: 1\n",
      "        Number of External Brains : 1\n",
      "        Lesson number : 0\n",
      "        Reset Parameters :\n",
      "\t\t\n",
      "Unity brain name: BananaBrain\n",
      "        Number of Visual Observations (per agent): 0\n",
      "        Vector Observation space type: continuous\n",
      "        Vector Observation space size (per agent): 37\n",
      "        Number of stacked Vector Observation: 1\n",
      "        Vector Action space type: discrete\n",
      "        Vector Action space size (per agent): 4\n",
      "        Vector Action descriptions: , , , \n"
     ]
    }
   ],
   "source": [
    "#env = UnityEnvironment(file_name=\"...\")\n",
    "# NOTE: seem to need to specify worker_id from time to time...\n",
    "#env = UnityEnvironment(file_name=\"Banana.app\", worker_id=1, seed=1)\n",
    "#env = UnityEnvironment(file_name=\"Banana.app\", worker_id=2, seed=1)\n",
    "#env = UnityEnvironment(\n",
    "#    file_name=\"C:/Users/Kirk/AI_Udacity_Classes/deep-reinforcement-learning-master/p1_navigation/Banana.exe\",worker_id=2)\n",
    "env = UnityEnvironment(\n",
    "    file_name=\"./Banana.exe\",worker_id=2)\n",
    "#env = UnityEnvironment(file_name=\"./Banana.exe\")"
   ]
  },
  {
   "cell_type": "code",
   "execution_count": 5,
   "metadata": {},
   "outputs": [
    {
     "name": "stdout",
     "output_type": "stream",
     "text": [
      "Unity Academy name: Academy\n",
      "        Number of Brains: 1\n",
      "        Number of External Brains : 1\n",
      "        Lesson number : 0\n",
      "        Reset Parameters :\n",
      "\t\t\n",
      "Unity brain name: BananaBrain\n",
      "        Number of Visual Observations (per agent): 0\n",
      "        Vector Observation space type: continuous\n",
      "        Vector Observation space size (per agent): 37\n",
      "        Number of stacked Vector Observation: 1\n",
      "        Vector Action space type: discrete\n",
      "        Vector Action space size (per agent): 4\n",
      "        Vector Action descriptions: , , ,  ['__class__', '__delattr__', '__dict__', '__dir__', '__doc__', '__eq__', '__format__', '__ge__', '__getattribute__', '__gt__', '__hash__', '__init__', '__init_subclass__', '__le__', '__lt__', '__module__', '__ne__', '__new__', '__reduce__', '__reduce_ex__', '__repr__', '__setattr__', '__sizeof__', '__str__', '__subclasshook__', '__weakref__', '_academy_name', '_brain_names', '_brains', '_buffer_size', '_close', '_curriculum', '_external_brain_names', '_flatten', '_generate_reset_input', '_generate_step_input', '_get_state', '_global_done', '_loaded', '_log_path', '_n_agents', '_num_brains', '_num_external_brains', '_process_pixels', '_resetParameters', '_unity_version', '_version_', 'academy_name', 'brain_names', 'brains', 'close', 'communicator', 'curriculum', 'executable_launcher', 'external_brain_names', 'get_communicator', 'global_done', 'logfile_path', 'number_brains', 'number_external_brains', 'port', 'proc1', 'reset', 'send_academy_parameters', 'step', 'wrap_unity_input']\n"
     ]
    }
   ],
   "source": [
    "print(env,dir(env))"
   ]
  },
  {
   "cell_type": "markdown",
   "metadata": {},
   "source": [
    "Environments contain **_brains_** which are responsible for deciding the actions of their associated agents. Here we check for the first brain available, and set it as the default brain we will be controlling from Python."
   ]
  },
  {
   "cell_type": "code",
   "execution_count": 6,
   "metadata": {},
   "outputs": [],
   "source": [
    "# get the default brain\n",
    "brain_name = env.brain_names[0]\n",
    "brain = env.brains[brain_name]"
   ]
  },
  {
   "cell_type": "code",
   "execution_count": 7,
   "metadata": {},
   "outputs": [
    {
     "name": "stdout",
     "output_type": "stream",
     "text": [
      "Unity brain name: BananaBrain\n",
      "        Number of Visual Observations (per agent): 0\n",
      "        Vector Observation space type: continuous\n",
      "        Vector Observation space size (per agent): 37\n",
      "        Number of stacked Vector Observation: 1\n",
      "        Vector Action space type: discrete\n",
      "        Vector Action space size (per agent): 4\n",
      "        Vector Action descriptions: , , , \n",
      "['__class__', '__delattr__', '__dict__', '__dir__', '__doc__', '__eq__', '__format__', '__ge__', '__getattribute__', '__gt__', '__hash__', '__init__', '__init_subclass__', '__le__', '__lt__', '__module__', '__ne__', '__new__', '__reduce__', '__reduce_ex__', '__repr__', '__setattr__', '__sizeof__', '__str__', '__subclasshook__', '__weakref__', 'brain_name', 'camera_resolutions', 'num_stacked_vector_observations', 'number_visual_observations', 'vector_action_descriptions', 'vector_action_space_size', 'vector_action_space_type', 'vector_observation_space_size', 'vector_observation_space_type']\n"
     ]
    }
   ],
   "source": [
    "print(brain)\n",
    "print(dir(brain))\n"
   ]
  },
  {
   "cell_type": "markdown",
   "metadata": {},
   "source": [
    "### 2. Examine the State and Action Spaces\n",
    "\n",
    "The simulation contains a single agent that navigates a large environment.  At each time step, it has four actions at its disposal:\n",
    "- `0` - walk forward \n",
    "- `1` - walk backward\n",
    "- `2` - turn left\n",
    "- `3` - turn right\n",
    "\n",
    "The state space has `37` dimensions and contains the agent's velocity, along with ray-based perception of objects around agent's forward direction.  A reward of `+1` is provided for collecting a yellow banana, and a reward of `-1` is provided for collecting a blue banana. \n",
    "\n",
    "Run the code cell below to print some information about the environment."
   ]
  },
  {
   "cell_type": "code",
   "execution_count": 8,
   "metadata": {},
   "outputs": [
    {
     "name": "stdout",
     "output_type": "stream",
     "text": [
      "Number of agents: 1\n",
      "Number of actions: 4\n",
      "States look like: [1.         0.         0.         0.         0.84408134 0.\n",
      " 0.         1.         0.         0.0748472  0.         1.\n",
      " 0.         0.         0.25755    1.         0.         0.\n",
      " 0.         0.74177343 0.         1.         0.         0.\n",
      " 0.25854847 0.         0.         1.         0.         0.09355672\n",
      " 0.         1.         0.         0.         0.31969345 0.\n",
      " 0.        ]\n",
      "States have length: 37\n"
     ]
    }
   ],
   "source": [
    "# reset the environment\n",
    "env_info = env.reset(train_mode=True)[brain_name]\n",
    "\n",
    "# number of agents in the environment\n",
    "print('Number of agents:', len(env_info.agents))\n",
    "\n",
    "# number of actions\n",
    "action_size = brain.vector_action_space_size\n",
    "print('Number of actions:', action_size)\n",
    "\n",
    "# examine the state space \n",
    "state = env_info.vector_observations[0]\n",
    "print('States look like:', state)\n",
    "state_size = len(state)\n",
    "print('States have length:', state_size)"
   ]
  },
  {
   "cell_type": "code",
   "execution_count": 9,
   "metadata": {},
   "outputs": [
    {
     "name": "stdout",
     "output_type": "stream",
     "text": [
      "<unityagents.brain.BrainInfo object at 0x00000159A41055C0> ['__class__', '__delattr__', '__dict__', '__dir__', '__doc__', '__eq__', '__format__', '__ge__', '__getattribute__', '__gt__', '__hash__', '__init__', '__init_subclass__', '__le__', '__lt__', '__module__', '__ne__', '__new__', '__reduce__', '__reduce_ex__', '__repr__', '__setattr__', '__sizeof__', '__str__', '__subclasshook__', '__weakref__', 'agents', 'local_done', 'max_reached', 'memories', 'previous_text_actions', 'previous_vector_actions', 'rewards', 'text_observations', 'vector_observations', 'visual_observations']\n"
     ]
    }
   ],
   "source": [
    "print(env_info,dir(env_info))\n"
   ]
  },
  {
   "cell_type": "code",
   "execution_count": 10,
   "metadata": {},
   "outputs": [
    {
     "name": "stdout",
     "output_type": "stream",
     "text": [
      "{'BananaBrain': <unityagents.brain.BrainParameters object at 0x00000159A41059B0>}\n"
     ]
    }
   ],
   "source": [
    "print(env.brains)"
   ]
  },
  {
   "cell_type": "code",
   "execution_count": 11,
   "metadata": {},
   "outputs": [
    {
     "name": "stdout",
     "output_type": "stream",
     "text": [
      "[]\n",
      "['']\n",
      "[[0.]]\n",
      "['']\n",
      "[]\n"
     ]
    }
   ],
   "source": [
    "print(env_info.memories)\n",
    "print(env_info.previous_text_actions)\n",
    "print(env_info.previous_vector_actions)\n",
    "print(env_info.text_observations)\n",
    "print(env_info.visual_observations)\n"
   ]
  },
  {
   "cell_type": "markdown",
   "metadata": {},
   "source": [
    "### 3. Take Random Actions in the Environment\n",
    "\n",
    "In the next code cell, you will learn how to use the Python API to control the agent and receive feedback from the environment.\n",
    "\n",
    "Once this cell is executed, you will watch the agent's performance, if it selects an action (uniformly) at random with each time step.  A window should pop up that allows you to observe the agent, as it moves through the environment.  \n",
    "\n",
    "Of course, as part of the project, you'll have to change the code so that the agent is able to use its experience to gradually choose better actions when interacting with the environment!"
   ]
  },
  {
   "cell_type": "code",
   "execution_count": 12,
   "metadata": {},
   "outputs": [
    {
     "name": "stdout",
     "output_type": "stream",
     "text": [
      "i:  1\n",
      "i, final score:  1 0.0\n",
      "i:  2\n",
      "i, final score:  2 1.0\n",
      "i:  3\n",
      "i, final score:  3 0.0\n",
      "i:  4\n",
      "i, final score:  4 -3.0\n",
      "i:  5\n",
      "i, final score:  5 0.0\n",
      "i:  6\n",
      "i, final score:  6 0.0\n",
      "i:  7\n",
      "i, final score:  7 -1.0\n",
      "i:  8\n",
      "i, final score:  8 1.0\n",
      "i:  9\n",
      "i, final score:  9 -1.0\n",
      "i:  10\n",
      "i, final score:  10 1.0\n"
     ]
    }
   ],
   "source": [
    "n_episodes = 10\n",
    "for i_episode in range(1, n_episodes+1):\n",
    "    print('i: ',i_episode)\n",
    "    env_info = env.reset(train_mode=True)[brain_name] # reset the environment\n",
    "    state = env_info.vector_observations[0]            # get the current state\n",
    "    score = 0                                          # initialize the score\n",
    "    while True:\n",
    "        action = np.random.randint(action_size)        # select an action\n",
    "        env_info = env.step(action)[brain_name]        # send the action to the environment\n",
    "        next_state = env_info.vector_observations[0]   # get the next state\n",
    "        reward = env_info.rewards[0]                   # get the reward\n",
    "        done = env_info.local_done[0]                  # see if episode has finished\n",
    "        score += reward                                # update the score\n",
    "        state = next_state                             # roll over the state to next time step\n",
    "        if done:                                       # exit loop if episode finished\n",
    "            print('i, final score: ',i_episode, score)\n",
    "            break\n",
    "            \n"
   ]
  },
  {
   "cell_type": "code",
   "execution_count": 13,
   "metadata": {},
   "outputs": [
    {
     "name": "stdout",
     "output_type": "stream",
     "text": [
      "i:  1\n",
      "i, final score:  1 0.0\n",
      "i:  2\n",
      "i, final score:  2 0.0\n"
     ]
    }
   ],
   "source": [
    "n_episodes = 2\n",
    "for i_episode in range(1, n_episodes+1):\n",
    "    print('i: ',i_episode)\n",
    "    env_info = env.reset(train_mode=False)[brain_name] # reset the environment\n",
    "    state = env_info.vector_observations[0]            # get the current state\n",
    "    score = 0                                          # initialize the score\n",
    "    while True:\n",
    "        action = np.random.randint(action_size)        # select an action\n",
    "        env_info = env.step(action)[brain_name]        # send the action to the environment\n",
    "        next_state = env_info.vector_observations[0]   # get the next state\n",
    "        reward = env_info.rewards[0]                   # get the reward\n",
    "        done = env_info.local_done[0]                  # see if episode has finished\n",
    "        score += reward                                # update the score\n",
    "        state = next_state                             # roll over the state to next time step\n",
    "        if done:                                       # exit loop if episode finished\n",
    "            print('i, final score: ',i_episode,score)\n",
    "            break\n",
    "            \n"
   ]
  },
  {
   "cell_type": "markdown",
   "metadata": {},
   "source": [
    "When finished, you can close the environment."
   ]
  },
  {
   "cell_type": "code",
   "execution_count": 14,
   "metadata": {},
   "outputs": [],
   "source": [
    "#NOTE this seems to end the session so moving it to bottom of page....\n",
    "#env.close()"
   ]
  },
  {
   "cell_type": "markdown",
   "metadata": {},
   "source": [
    "### 4. It's Your Turn!\n",
    "\n",
    "Now it's your turn to train your own agent to solve the environment!  When training the environment, set `train_mode=True`, so that the line for resetting the environment looks like the following:\n",
    "```python\n",
    "env_info = env.reset(train_mode=True)[brain_name]\n",
    "```"
   ]
  },
  {
   "cell_type": "markdown",
   "metadata": {},
   "source": [
    "# PRELIMINARY NOTES:\n",
    "Ran the random actions and get a score of 0.0 running the above default. We assume this is normal as the video fails to provide this key element but it \"makes sense\"\n",
    "\n",
    "Our expectation based in the instructions is to start with our DQN model we used prior and to adjust to fit into this different (Unity) paradym for starters\n",
    "\n",
    "HOwever we can start with just importing the model and agent as before. Locally we've renamed them dqn_model.py and dqn_agent.py. Some of the internal or hyperparameters we'll start with the default and see where that takes us\n",
    "\n",
    "As a further note we like some of the post-dqn approaches, especially the dueling networks and the prioritized experience replay. However since these were mainly modifications of the internal workings of the agents and the like we felt that it was best to first get the baseline DQN running and then see if there are problems about possibly making these modifications.\n",
    "\n",
    "## APPROACH\n",
    "So we start with our original agent and model, which we've imported locally, renamed and will import as dqn_agent package for this effort (having changed the name appropriately in dqn_agent). Next we will define our agent and finally import the dqn function and modify it appropriately for the unity setup"
   ]
  },
  {
   "cell_type": "code",
   "execution_count": 15,
   "metadata": {},
   "outputs": [],
   "source": [
    "from dqn_agent import Agent"
   ]
  },
  {
   "cell_type": "code",
   "execution_count": 16,
   "metadata": {},
   "outputs": [],
   "source": [
    "#env = UnityEnvironment(file_name=\"C:/Users/Kirk/AI_Udacity_Classes/deep-reinforcement-learning-master/p1_navigation/Banana.exe\")\n",
    "## get the default brain\n",
    "#brain_name = env.brain_names[0]\n",
    "#brain = env.brains[brain_name]\n",
    "\n",
    "## reset the environment\n",
    "#env_info = env.reset(train_mode=True)[brain_name]\n",
    "\n",
    "\n",
    "## number of actions\n",
    "#action_size = brain.vector_action_space_size\n",
    "#print('Number of actions:', action_size)\n",
    "\n",
    "## examine the state space \n",
    "#state = env_info.vector_observations[0]\n",
    "#print('States look like:', state)\n",
    "#state_size = len(state)\n",
    "\n"
   ]
  },
  {
   "cell_type": "code",
   "execution_count": 17,
   "metadata": {},
   "outputs": [
    {
     "name": "stdout",
     "output_type": "stream",
     "text": [
      "Number of agents: 1\n"
     ]
    }
   ],
   "source": [
    "len_agents = len(env_info.agents)\n",
    "# number of agents in the environment\n",
    "print('Number of agents:', len_agents)\n",
    "#from dqn_agent import Agent\n",
    "agent = Agent(state_size=state_size, action_size=action_size, seed=0)"
   ]
  },
  {
   "cell_type": "markdown",
   "metadata": {},
   "source": [
    "## Connecting with Unity instead of Gym\n",
    "There are a few differences between AIGym and Unity; namely\n",
    "we'll need to pass in \n",
    "1) env, env_info and we want to be clear and pass in the above agent as well"
   ]
  },
  {
   "cell_type": "code",
   "execution_count": 18,
   "metadata": {},
   "outputs": [],
   "source": [
    "#env_info = env.reset(train_mode=True)[brain_name] # reset the environment"
   ]
  },
  {
   "cell_type": "code",
   "execution_count": 19,
   "metadata": {},
   "outputs": [],
   "source": [
    "#def dqn(agent, env, env_info, n_episodes=2000, max_t=1000, eps_start=1.0, eps_end=0.01, \n",
    "#        eps_decay=0.995, dprint=100):\n",
    "def dqn(agent, env, brain_name, train_mode=True, n_episodes=2000, max_t=1000, eps_start=1.0, eps_end=0.01, \n",
    "        eps_decay=0.995, dprint=100, MAX_SCORE=13.0):\n",
    "    \"\"\"Deep Q-Learning.\n",
    "    \n",
    "    Params\n",
    "    ======\n",
    "        agent: agent class with embedded model\n",
    "        env: environment class, now from unity\n",
    "        n_episodes (int): maximum number of training episodes\n",
    "        max_t (int): maximum number of timesteps per episode\n",
    "        eps_start (float): starting value of epsilon, for epsilon-greedy action selection\n",
    "        eps_end (float): minimum value of epsilon\n",
    "        eps_decay (float): multiplicative factor (per episode) for decreasing epsilon\n",
    "    \"\"\"\n",
    "    scores = []                        # list containing scores from each episode\n",
    "    scores_window = deque(maxlen=100)  # last 100 scores\n",
    "    eps = eps_start                    # initialize epsilon\n",
    "    prev_score = 0\n",
    "    print('before episodes:',str(env))\n",
    "    for i_episode in range(1, n_episodes+1):\n",
    "        env_info = env.reset(train_mode=train_mode)[brain_name]\n",
    "        state = env_info.vector_observations[0]            # get the current state\n",
    "        score = 0\n",
    "        for t in range(max_t):\n",
    "            action = agent.act(state, eps)\n",
    "            env_info = env.step(action)[brain_name]        # send the action to the environment\n",
    "            \n",
    "            # NOTE: steal the way of getting next_state, reward, done from environment\n",
    "            next_state = env_info.vector_observations[0]   # get the next state\n",
    "            reward = env_info.rewards[0]                   # get the reward\n",
    "            done = env_info.local_done[0]                  # see if episode has finished\n",
    "            if train_mode:\n",
    "                agent.step(state, action, reward, next_state, done)\n",
    "    \n",
    "            state = next_state\n",
    "            score += reward\n",
    "            if score > prev_score:\n",
    "                prev_score = score\n",
    "            \n",
    "            if done:\n",
    "                break \n",
    "        scores_window.append(score)       # save most recent score\n",
    "        scores.append(score)              # save most recent score\n",
    "        eps = max(eps_end, eps_decay*eps) # decrease epsilon\n",
    "        if i_episode % dprint == 0:\n",
    "            print('\\rEpisode {}\\tAverage Score: {:.2f}'.format(i_episode, np.mean(scores_window)))\n",
    "        if (np.mean(scores_window)>= MAX_SCORE):\n",
    "            print('\\nEnvironment solved in {:d} episodes!\\tAverage Score: {:.2f}'.format(i_episode-100, np.mean(scores_window)))\n",
    "            if  train_mode:\n",
    "                torch.save(agent.qnetwork_local.state_dict(), 'checkpoint.pth')\n",
    "            break\n",
    "    return scores\n",
    "\n",
    "\n"
   ]
  },
  {
   "cell_type": "code",
   "execution_count": 20,
   "metadata": {},
   "outputs": [
    {
     "name": "stdout",
     "output_type": "stream",
     "text": [
      "before episodes: Unity Academy name: Academy\n",
      "        Number of Brains: 1\n",
      "        Number of External Brains : 1\n",
      "        Lesson number : 0\n",
      "        Reset Parameters :\n",
      "\t\t\n",
      "Unity brain name: BananaBrain\n",
      "        Number of Visual Observations (per agent): 0\n",
      "        Vector Observation space type: continuous\n",
      "        Vector Observation space size (per agent): 37\n",
      "        Number of stacked Vector Observation: 1\n",
      "        Vector Action space type: discrete\n",
      "        Vector Action space size (per agent): 4\n",
      "        Vector Action descriptions: , , , \n",
      "Episode 100\tAverage Score: 0.64\n",
      "Episode 200\tAverage Score: 3.74\n",
      "Episode 300\tAverage Score: 7.56\n",
      "Episode 400\tAverage Score: 10.14\n",
      "Episode 500\tAverage Score: 12.91\n",
      "\n",
      "Environment solved in 402 episodes!\tAverage Score: 13.01\n"
     ]
    }
   ],
   "source": [
    "#scores = dqn(agent, env, brain_name, train_mode=True, n_episodes=20, max_t=100, eps_start=1.0, \n",
    "#             eps_end=0.01, eps_decay=0.995, dprint=1)\n",
    "scores = dqn(agent, env, brain_name, train_mode=True, n_episodes=2000, max_t=1000, eps_start=1.0, \n",
    "             eps_end=0.01, eps_decay=0.995, dprint=100)\n",
    "#scores = dqn(agent, env, env_info, n_episodes=20, max_t=100, eps_start=1.0, \n",
    "#             eps_end=0.01, eps_decay=0.995, dprint=100)\n",
    "#scores = dqn(agent, env, env_info, n_episodes=2000, max_t=1000, eps_start=1.0, \n",
    "#            eps_end=0.01, eps_decay=0.995, dprint=100)\n",
    "\n"
   ]
  },
  {
   "cell_type": "code",
   "execution_count": 21,
   "metadata": {},
   "outputs": [
    {
     "data": {
      "image/png": "[encoded data removed]",
      "text/plain": [
       "<Figure size 432x288 with 1 Axes>"
      ]
     },
     "metadata": {
      "needs_background": "light"
     },
     "output_type": "display_data"
    }
   ],
   "source": [
    "# plot the scores\n",
    "fig = plt.figure()\n",
    "ax = fig.add_subplot(111)\n",
    "plt.plot(np.arange(len(scores)), scores)\n",
    "plt.ylabel('Score')\n",
    "plt.xlabel('Episode #')\n",
    "plt.show()\n",
    "\n"
   ]
  },
  {
   "cell_type": "code",
   "execution_count": 22,
   "metadata": {},
   "outputs": [
    {
     "name": "stdout",
     "output_type": "stream",
     "text": [
      "before episodes: Unity Academy name: Academy\n",
      "        Number of Brains: 1\n",
      "        Number of External Brains : 1\n",
      "        Lesson number : 0\n",
      "        Reset Parameters :\n",
      "\t\t\n",
      "Unity brain name: BananaBrain\n",
      "        Number of Visual Observations (per agent): 0\n",
      "        Vector Observation space type: continuous\n",
      "        Vector Observation space size (per agent): 37\n",
      "        Number of stacked Vector Observation: 1\n",
      "        Vector Action space type: discrete\n",
      "        Vector Action space size (per agent): 4\n",
      "        Vector Action descriptions: , , , \n",
      "Episode 10\tAverage Score: 0.00\n",
      "Episode 20\tAverage Score: 0.10\n",
      "Episode 30\tAverage Score: 0.20\n",
      "Episode 40\tAverage Score: 0.50\n",
      "Episode 50\tAverage Score: 0.70\n",
      "Episode 60\tAverage Score: 0.98\n",
      "Episode 70\tAverage Score: 1.21\n",
      "Episode 80\tAverage Score: 1.44\n",
      "Episode 90\tAverage Score: 1.63\n",
      "Episode 100\tAverage Score: 1.93\n",
      "Episode 110\tAverage Score: 2.32\n",
      "Episode 120\tAverage Score: 2.90\n",
      "Episode 130\tAverage Score: 3.47\n",
      "Episode 140\tAverage Score: 3.99\n",
      "Episode 150\tAverage Score: 4.40\n",
      "Episode 160\tAverage Score: 4.77\n",
      "Episode 170\tAverage Score: 5.11\n",
      "Episode 180\tAverage Score: 5.40\n",
      "Episode 190\tAverage Score: 6.04\n",
      "Episode 200\tAverage Score: 6.48\n",
      "Episode 210\tAverage Score: 6.94\n",
      "Episode 220\tAverage Score: 7.13\n",
      "Episode 230\tAverage Score: 7.40\n",
      "Episode 240\tAverage Score: 7.67\n",
      "Episode 250\tAverage Score: 7.94\n",
      "Episode 260\tAverage Score: 8.29\n",
      "Episode 270\tAverage Score: 8.60\n",
      "Episode 280\tAverage Score: 9.16\n",
      "Episode 290\tAverage Score: 9.37\n",
      "Episode 300\tAverage Score: 9.69\n",
      "Episode 310\tAverage Score: 9.88\n",
      "Episode 320\tAverage Score: 10.23\n",
      "Episode 330\tAverage Score: 10.54\n",
      "Episode 340\tAverage Score: 10.82\n",
      "Episode 350\tAverage Score: 11.10\n",
      "Episode 360\tAverage Score: 11.43\n",
      "Episode 370\tAverage Score: 11.81\n",
      "Episode 380\tAverage Score: 11.88\n",
      "Episode 390\tAverage Score: 12.05\n",
      "Episode 400\tAverage Score: 11.83\n",
      "Episode 410\tAverage Score: 11.88\n",
      "Episode 420\tAverage Score: 11.75\n",
      "Episode 430\tAverage Score: 11.85\n",
      "Episode 440\tAverage Score: 11.74\n",
      "Episode 450\tAverage Score: 11.80\n",
      "Episode 460\tAverage Score: 11.76\n",
      "Episode 470\tAverage Score: 11.82\n",
      "Episode 480\tAverage Score: 12.04\n",
      "Episode 490\tAverage Score: 12.14\n",
      "Episode 500\tAverage Score: 12.29\n",
      "Episode 510\tAverage Score: 12.64\n",
      "\n",
      "Environment solved in 416 episodes!\tAverage Score: 13.02\n"
     ]
    }
   ],
   "source": [
    "agent.qnetwork_local.load_state_dict(torch.load('checkpoint.pth'))\n",
    "agent.qnetwork_local.eval()\n",
    "#env_info = env.reset(train_mode=False)[brain_name] # reset the environment\n",
    "env_info = env.reset(train_mode=False)[brain_name] # reset the environment\n",
    "\n",
    "#scores = dqn(agent, env, brain_name, train_mode=False, n_episodes=2000, max_t=1000, eps_start=1.0, \n",
    "#             eps_end=0.01, eps_decay=0.995, dprint=100)\n",
    "scores = dqn(agent, env, brain_name, train_mode=True, n_episodes=2000, max_t=1000, eps_start=1.0, \n",
    "             eps_end=0.01, eps_decay=0.995, dprint=10)\n"
   ]
  },
  {
   "cell_type": "code",
   "execution_count": 23,
   "metadata": {},
   "outputs": [
    {
     "data": {
      "image/png": "[encoded data removed]",
      "text/plain": [
       "<Figure size 432x288 with 1 Axes>"
      ]
     },
     "metadata": {
      "needs_background": "light"
     },
     "output_type": "display_data"
    }
   ],
   "source": [
    "# plot the scores\n",
    "fig = plt.figure()\n",
    "ax = fig.add_subplot(111)\n",
    "plt.plot(np.arange(len(scores)), scores)\n",
    "plt.ylabel('Score')\n",
    "plt.xlabel('Episode #')\n",
    "plt.title('Testing (train=false)')\n",
    "plt.show()\n"
   ]
  },
  {
   "cell_type": "code",
   "execution_count": 24,
   "metadata": {},
   "outputs": [
    {
     "name": "stdout",
     "output_type": "stream",
     "text": [
      "before episodes: Unity Academy name: Academy\n",
      "        Number of Brains: 1\n",
      "        Number of External Brains : 1\n",
      "        Lesson number : 0\n",
      "        Reset Parameters :\n",
      "\t\t\n",
      "Unity brain name: BananaBrain\n",
      "        Number of Visual Observations (per agent): 0\n",
      "        Vector Observation space type: continuous\n",
      "        Vector Observation space size (per agent): 37\n",
      "        Number of stacked Vector Observation: 1\n",
      "        Vector Action space type: discrete\n",
      "        Vector Action space size (per agent): 4\n",
      "        Vector Action descriptions: , , , \n",
      "Episode 10\tAverage Score: 0.20\n",
      "Episode 20\tAverage Score: 0.45\n",
      "Episode 30\tAverage Score: 0.43\n",
      "Episode 40\tAverage Score: 0.65\n",
      "Episode 50\tAverage Score: 0.86\n",
      "Episode 60\tAverage Score: 0.97\n",
      "Episode 70\tAverage Score: 1.10\n",
      "Episode 80\tAverage Score: 1.36\n",
      "Episode 90\tAverage Score: 1.66\n",
      "Episode 100\tAverage Score: 1.82\n",
      "Episode 110\tAverage Score: 2.15\n",
      "Episode 120\tAverage Score: 2.70\n",
      "Episode 130\tAverage Score: 3.24\n",
      "Episode 140\tAverage Score: 3.79\n",
      "Episode 150\tAverage Score: 4.30\n",
      "Episode 160\tAverage Score: 4.95\n",
      "Episode 170\tAverage Score: 5.44\n",
      "Episode 180\tAverage Score: 5.99\n",
      "Episode 190\tAverage Score: 6.34\n",
      "Episode 200\tAverage Score: 6.89\n",
      "Episode 210\tAverage Score: 7.47\n",
      "Episode 220\tAverage Score: 7.72\n",
      "Episode 230\tAverage Score: 8.03\n",
      "Episode 240\tAverage Score: 8.32\n",
      "Episode 250\tAverage Score: 8.55\n",
      "Episode 260\tAverage Score: 8.90\n"
     ]
    },
    {
     "ename": "KeyError",
     "evalue": "'BananaBrain'",
     "output_type": "error",
     "traceback": [
      "\u001b[1;31m---------------------------------------------------------------------------\u001b[0m",
      "\u001b[1;31mKeyError\u001b[0m                                  Traceback (most recent call last)",
      "\u001b[1;32m<ipython-input-24-268bb15a6a90>\u001b[0m in \u001b[0;36m<module>\u001b[1;34m\u001b[0m\n\u001b[0;32m      6\u001b[0m \u001b[1;33m\u001b[0m\u001b[0m\n\u001b[0;32m      7\u001b[0m scores = dqn(agent, env, brain_name, train_mode=False, n_episodes=2000, max_t=1000, eps_start=1.0, \n\u001b[1;32m----> 8\u001b[1;33m              eps_end=0.01, eps_decay=0.995, dprint=10)\n\u001b[0m\u001b[0;32m      9\u001b[0m \u001b[1;31m#scores = dqn(agent, env, brain_name, train_mode=True, n_episodes=2000, max_t=1000, eps_start=1.0,\u001b[0m\u001b[1;33m\u001b[0m\u001b[1;33m\u001b[0m\u001b[1;33m\u001b[0m\u001b[0m\n\u001b[0;32m     10\u001b[0m \u001b[1;31m#             eps_end=0.01, eps_decay=0.995, dprint=10)\u001b[0m\u001b[1;33m\u001b[0m\u001b[1;33m\u001b[0m\u001b[1;33m\u001b[0m\u001b[0m\n",
      "\u001b[1;32m<ipython-input-19-c0e6ab324985>\u001b[0m in \u001b[0;36mdqn\u001b[1;34m(agent, env, brain_name, train_mode, n_episodes, max_t, eps_start, eps_end, eps_decay, dprint, MAX_SCORE)\u001b[0m\n\u001b[0;32m     26\u001b[0m         \u001b[1;32mfor\u001b[0m \u001b[0mt\u001b[0m \u001b[1;32min\u001b[0m \u001b[0mrange\u001b[0m\u001b[1;33m(\u001b[0m\u001b[0mmax_t\u001b[0m\u001b[1;33m)\u001b[0m\u001b[1;33m:\u001b[0m\u001b[1;33m\u001b[0m\u001b[1;33m\u001b[0m\u001b[0m\n\u001b[0;32m     27\u001b[0m             \u001b[0maction\u001b[0m \u001b[1;33m=\u001b[0m \u001b[0magent\u001b[0m\u001b[1;33m.\u001b[0m\u001b[0mact\u001b[0m\u001b[1;33m(\u001b[0m\u001b[0mstate\u001b[0m\u001b[1;33m,\u001b[0m \u001b[0meps\u001b[0m\u001b[1;33m)\u001b[0m\u001b[1;33m\u001b[0m\u001b[1;33m\u001b[0m\u001b[0m\n\u001b[1;32m---> 28\u001b[1;33m             \u001b[0menv_info\u001b[0m \u001b[1;33m=\u001b[0m \u001b[0menv\u001b[0m\u001b[1;33m.\u001b[0m\u001b[0mstep\u001b[0m\u001b[1;33m(\u001b[0m\u001b[0maction\u001b[0m\u001b[1;33m)\u001b[0m\u001b[1;33m[\u001b[0m\u001b[0mbrain_name\u001b[0m\u001b[1;33m]\u001b[0m        \u001b[1;31m# send the action to the environment\u001b[0m\u001b[1;33m\u001b[0m\u001b[1;33m\u001b[0m\u001b[0m\n\u001b[0m\u001b[0;32m     29\u001b[0m \u001b[1;33m\u001b[0m\u001b[0m\n\u001b[0;32m     30\u001b[0m             \u001b[1;31m# NOTE: steal the way of getting next_state, reward, done from environment\u001b[0m\u001b[1;33m\u001b[0m\u001b[1;33m\u001b[0m\u001b[1;33m\u001b[0m\u001b[0m\n",
      "\u001b[1;32m~\\anaconda3\\lib\\site-packages\\unityagents\\environment.py\u001b[0m in \u001b[0;36mstep\u001b[1;34m(self, vector_action, memory, text_action)\u001b[0m\n\u001b[0;32m    375\u001b[0m             \u001b[0mself\u001b[0m\u001b[1;33m.\u001b[0m\u001b[0m_global_done\u001b[0m \u001b[1;33m=\u001b[0m \u001b[0ms\u001b[0m\u001b[1;33m[\u001b[0m\u001b[1;36m1\u001b[0m\u001b[1;33m]\u001b[0m\u001b[1;33m\u001b[0m\u001b[1;33m\u001b[0m\u001b[0m\n\u001b[0;32m    376\u001b[0m             \u001b[1;32mfor\u001b[0m \u001b[0m_b\u001b[0m \u001b[1;32min\u001b[0m \u001b[0mself\u001b[0m\u001b[1;33m.\u001b[0m\u001b[0m_external_brain_names\u001b[0m\u001b[1;33m:\u001b[0m\u001b[1;33m\u001b[0m\u001b[1;33m\u001b[0m\u001b[0m\n\u001b[1;32m--> 377\u001b[1;33m                 \u001b[0mself\u001b[0m\u001b[1;33m.\u001b[0m\u001b[0m_n_agents\u001b[0m\u001b[1;33m[\u001b[0m\u001b[0m_b\u001b[0m\u001b[1;33m]\u001b[0m \u001b[1;33m=\u001b[0m \u001b[0mlen\u001b[0m\u001b[1;33m(\u001b[0m\u001b[0ms\u001b[0m\u001b[1;33m[\u001b[0m\u001b[1;36m0\u001b[0m\u001b[1;33m]\u001b[0m\u001b[1;33m[\u001b[0m\u001b[0m_b\u001b[0m\u001b[1;33m]\u001b[0m\u001b[1;33m.\u001b[0m\u001b[0magents\u001b[0m\u001b[1;33m)\u001b[0m\u001b[1;33m\u001b[0m\u001b[1;33m\u001b[0m\u001b[0m\n\u001b[0m\u001b[0;32m    378\u001b[0m             \u001b[1;32mreturn\u001b[0m \u001b[0ms\u001b[0m\u001b[1;33m[\u001b[0m\u001b[1;36m0\u001b[0m\u001b[1;33m]\u001b[0m\u001b[1;33m\u001b[0m\u001b[1;33m\u001b[0m\u001b[0m\n\u001b[0;32m    379\u001b[0m         \u001b[1;32melif\u001b[0m \u001b[1;32mnot\u001b[0m \u001b[0mself\u001b[0m\u001b[1;33m.\u001b[0m\u001b[0m_loaded\u001b[0m\u001b[1;33m:\u001b[0m\u001b[1;33m\u001b[0m\u001b[1;33m\u001b[0m\u001b[0m\n",
      "\u001b[1;31mKeyError\u001b[0m: 'BananaBrain'"
     ]
    }
   ],
   "source": [
    "agent.qnetwork_local.load_state_dict(torch.load('checkpoint.pth'))\n",
    "agent.qnetwork_local.eval()\n",
    "\n",
    "#env_info = env.reset(train_mode=False)[brain_name] # reset the environment\n",
    "env_info = env.reset(train_mode=False)[brain_name] # reset the environment\n",
    "\n",
    "scores = dqn(agent, env, brain_name, train_mode=False, n_episodes=2000, max_t=1000, eps_start=1.0, \n",
    "             eps_end=0.01, eps_decay=0.995, dprint=10)\n",
    "#scores = dqn(agent, env, brain_name, train_mode=True, n_episodes=2000, max_t=1000, eps_start=1.0, \n",
    "#             eps_end=0.01, eps_decay=0.995, dprint=10)\n"
   ]
  },
  {
   "cell_type": "code",
   "execution_count": null,
   "metadata": {},
   "outputs": [],
   "source": [
    "agent.qnetwork_local.load_state_dict(torch.load('checkpoint.pth'))\n",
    "agent.qnetwork_local.eval()\n",
    "#env_info = env.reset(train_mode=False)[brain_name] # reset the environment\n",
    "env_info = env.reset(train_mode=False)[brain_name] # reset the environment\n",
    "\n"
   ]
  },
  {
   "cell_type": "code",
   "execution_count": null,
   "metadata": {},
   "outputs": [],
   "source": [
    "#NOTE: This is a stripped down version of the dqn function above in the hopes that somehow \n",
    "#  this will better replicate a true testing environment. I've added the agent step function call\n",
    "#  as this seems to be the main area where things don't make sense. We get very slow perations \n",
    "#  of the dqn testing case when train = False which in that manifistation  also blocks the step call\n",
    "#  which has a \"learn\" calls within it as welll\n",
    "train_mode=False\n",
    "n_episodes=2000\n",
    "max_t=1000\n",
    "eps_start=1.0\n",
    "eps_end=0.01 \n",
    "eps_decay=0.995\n",
    "dprint=10\n",
    "scores = []                        # list containing scores from each episode\n",
    "MAX_SCORE = 13.0\n",
    "scores_window = deque(maxlen=100)  # last 100 scores\n",
    "eps = eps_start                    # initialize epsilon\n",
    "print('before episodes:',str(env))\n",
    "for i_episode in range(1, n_episodes+1):\n",
    "        env_info = env.reset(train_mode=train_mode)[brain_name]\n",
    "        state = env_info.vector_observations[0]            # get the current state\n",
    "        score = 0\n",
    "        for t in range(max_t):\n",
    "            action = agent.act(state, eps)\n",
    "            env_info = env.step(action)[brain_name]        # send the action to the environment\n",
    "            \n",
    "            # NOTE: steal the way of getting next_state, reward, done from environment\n",
    "            next_state = env_info.vector_observations[0]   # get the next state\n",
    "            reward = env_info.rewards[0]                   # get the reward\n",
    "            done = env_info.local_done[0]                  # see if episode has finished\n",
    "#            if train_mode:\n",
    "#                agent.step(state, action, reward, next_state, done)\n",
    "            agent.step(state, action, reward, next_state, done)\n",
    "    \n",
    "            state = next_state\n",
    "            score += reward\n",
    "            \n",
    "            if done:\n",
    "                break \n",
    "        scores_window.append(score)       # save most recent score\n",
    "        scores.append(score)              # save most recent score\n",
    "        if i_episode % dprint == 0:\n",
    "            print('\\rEpisode {}\\tAverage Score: {:.2f}'.format(i_episode, np.mean(scores_window)))\n",
    "        if (np.mean(scores_window)>= MAX_SCORE):\n",
    "            print('\\nTest Environment processed in {:d} episodes!\\tAverage Score: {:.2f}'.format(i_episode-100, np.mean(scores_window)))\n"
   ]
  },
  {
   "cell_type": "code",
   "execution_count": null,
   "metadata": {},
   "outputs": [],
   "source": [
    "# plot the scores\n",
    "fig = plt.figure()\n",
    "ax = fig.add_subplot(111)\n",
    "plt.plot(np.arange(len(scores)), scores)\n",
    "plt.ylabel('Score')\n",
    "plt.xlabel('Episode #')\n",
    "plt.show()\n"
   ]
  },
  {
   "cell_type": "code",
   "execution_count": null,
   "metadata": {},
   "outputs": [],
   "source": [
    "env.close()"
   ]
  },
  {
   "cell_type": "code",
   "execution_count": null,
   "metadata": {},
   "outputs": [],
   "source": []
  }
 ],
 "metadata": {
  "kernelspec": {
   "display_name": "drlnd",
   "language": "python",
   "name": "drlnd"
  },
  "language_info": {
   "codemirror_mode": {
    "name": "ipython",
    "version": 3
   },
   "file_extension": ".py",
   "mimetype": "text/x-python",
   "name": "python",
   "nbconvert_exporter": "python",
   "pygments_lexer": "ipython3",
   "version": "3.6.13"
  }
 },
 "nbformat": 4,
 "nbformat_minor": 2
}
