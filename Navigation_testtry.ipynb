{
 "cells": [
  {
   "cell_type": "markdown",
   "metadata": {},
   "source": [
    "# Navigation\n",
    "\n",
    "---\n",
    "\n",
    "In this notebook, you will learn how to use the Unity ML-Agents environment for the first project of the [Deep Reinforcement Learning Nanodegree](https://www.udacity.com/course/deep-reinforcement-learning-nanodegree--nd893).\n",
    "\n",
    "### 1. Start the Environment\n",
    "\n",
    "We begin by importing some necessary packages.  If the code cell below returns an error, please revisit the project instructions to double-check that you have installed [Unity ML-Agents](https://github.com/Unity-Technologies/ml-agents/blob/master/docs/Installation.md) and [NumPy](http://www.numpy.org/)."
   ]
  },
  {
   "cell_type": "code",
   "execution_count": 1,
   "metadata": {},
   "outputs": [],
   "source": [
    "from unityagents import UnityEnvironment\n",
    "import numpy as np\n",
    "import torch"
   ]
  },
  {
   "cell_type": "code",
   "execution_count": 2,
   "metadata": {},
   "outputs": [],
   "source": [
    "import matplotlib.pyplot as plt\n",
    "get_ipython().run_line_magic('matplotlib', 'inline')\n",
    "\n",
    "#get_ipython().system('python -m pip install pyvirtualdisplay')\n",
    "#from pyvirtualdisplay import Display\n",
    "#display = Display(visible=0, size=(1400, 900))\n",
    "#display.start()\n",
    "\n",
    "is_ipython = 'inline' in plt.get_backend()\n",
    "if is_ipython:\n",
    "    from IPython import display\n",
    "\n",
    "plt.ion()\n"
   ]
  },
  {
   "cell_type": "code",
   "execution_count": 3,
   "metadata": {},
   "outputs": [],
   "source": [
    "from collections import deque"
   ]
  },
  {
   "cell_type": "markdown",
   "metadata": {},
   "source": [
    "Next, we will start the environment!  **_Before running the code cell below_**, change the `file_name` parameter to match the location of the Unity environment that you downloaded.\n",
    "\n",
    "- **Mac**: `\"path/to/Banana.app\"`\n",
    "- **Windows** (x86): `\"path/to/Banana_Windows_x86/Banana.exe\"`\n",
    "- **Windows** (x86_64): `\"path/to/Banana_Windows_x86_64/Banana.exe\"`\n",
    "- **Linux** (x86): `\"path/to/Banana_Linux/Banana.x86\"`\n",
    "- **Linux** (x86_64): `\"path/to/Banana_Linux/Banana.x86_64\"`\n",
    "- **Linux** (x86, headless): `\"path/to/Banana_Linux_NoVis/Banana.x86\"`\n",
    "- **Linux** (x86_64, headless): `\"path/to/Banana_Linux_NoVis/Banana.x86_64\"`\n",
    "\n",
    "For instance, if you are using a Mac, then you downloaded `Banana.app`.  If this file is in the same folder as the notebook, then the line below should appear as follows:\n",
    "```\n",
    "env = UnityEnvironment(file_name=\"Banana.app\")\n",
    "```"
   ]
  },
  {
   "cell_type": "code",
   "execution_count": 5,
   "metadata": {},
   "outputs": [
    {
     "name": "stderr",
     "output_type": "stream",
     "text": [
      "INFO:unityagents:\n",
      "'Academy' started successfully!\n",
      "Unity Academy name: Academy\n",
      "        Number of Brains: 1\n",
      "        Number of External Brains : 1\n",
      "        Lesson number : 0\n",
      "        Reset Parameters :\n",
      "\t\t\n",
      "Unity brain name: BananaBrain\n",
      "        Number of Visual Observations (per agent): 0\n",
      "        Vector Observation space type: continuous\n",
      "        Vector Observation space size (per agent): 37\n",
      "        Number of stacked Vector Observation: 1\n",
      "        Vector Action space type: discrete\n",
      "        Vector Action space size (per agent): 4\n",
      "        Vector Action descriptions: , , , \n"
     ]
    }
   ],
   "source": [
    "#env = UnityEnvironment(file_name=\"...\")\n",
    "# NOTE: seem to need to specify worker_id from time to time...\n",
    "#env = UnityEnvironment(file_name=\"Banana.app\", worker_id=1, seed=1)\n",
    "#env = UnityEnvironment(file_name=\"Banana.app\", worker_id=2, seed=1)\n",
    "#NOTE 2/18/2022: we sometimes get errors and have to switch the worker_id; values of 1 and 2 seeme to cover most problems\n",
    "env = UnityEnvironment(\n",
    "    file_name=\"./Banana.exe\",worker_id=1)\n",
    "#env = UnityEnvironment(file_name=\"./Banana.exe\")"
   ]
  },
  {
   "cell_type": "code",
   "execution_count": 6,
   "metadata": {},
   "outputs": [
    {
     "name": "stdout",
     "output_type": "stream",
     "text": [
      "Unity Academy name: Academy\n",
      "        Number of Brains: 1\n",
      "        Number of External Brains : 1\n",
      "        Lesson number : 0\n",
      "        Reset Parameters :\n",
      "\t\t\n",
      "Unity brain name: BananaBrain\n",
      "        Number of Visual Observations (per agent): 0\n",
      "        Vector Observation space type: continuous\n",
      "        Vector Observation space size (per agent): 37\n",
      "        Number of stacked Vector Observation: 1\n",
      "        Vector Action space type: discrete\n",
      "        Vector Action space size (per agent): 4\n",
      "        Vector Action descriptions: , , ,  ['__class__', '__delattr__', '__dict__', '__dir__', '__doc__', '__eq__', '__format__', '__ge__', '__getattribute__', '__gt__', '__hash__', '__init__', '__init_subclass__', '__le__', '__lt__', '__module__', '__ne__', '__new__', '__reduce__', '__reduce_ex__', '__repr__', '__setattr__', '__sizeof__', '__str__', '__subclasshook__', '__weakref__', '_academy_name', '_brain_names', '_brains', '_buffer_size', '_close', '_curriculum', '_external_brain_names', '_flatten', '_generate_reset_input', '_generate_step_input', '_get_state', '_global_done', '_loaded', '_log_path', '_n_agents', '_num_brains', '_num_external_brains', '_process_pixels', '_resetParameters', '_unity_version', '_version_', 'academy_name', 'brain_names', 'brains', 'close', 'communicator', 'curriculum', 'executable_launcher', 'external_brain_names', 'get_communicator', 'global_done', 'logfile_path', 'number_brains', 'number_external_brains', 'port', 'proc1', 'reset', 'send_academy_parameters', 'step', 'wrap_unity_input']\n"
     ]
    }
   ],
   "source": [
    "print(env,dir(env))"
   ]
  },
  {
   "cell_type": "markdown",
   "metadata": {},
   "source": [
    "Environments contain **_brains_** which are responsible for deciding the actions of their associated agents. Here we check for the first brain available, and set it as the default brain we will be controlling from Python."
   ]
  },
  {
   "cell_type": "code",
   "execution_count": 7,
   "metadata": {},
   "outputs": [],
   "source": [
    "# get the default brain\n",
    "brain_name = env.brain_names[0]\n",
    "brain = env.brains[brain_name]"
   ]
  },
  {
   "cell_type": "code",
   "execution_count": 8,
   "metadata": {},
   "outputs": [
    {
     "name": "stdout",
     "output_type": "stream",
     "text": [
      "Unity brain name: BananaBrain\n",
      "        Number of Visual Observations (per agent): 0\n",
      "        Vector Observation space type: continuous\n",
      "        Vector Observation space size (per agent): 37\n",
      "        Number of stacked Vector Observation: 1\n",
      "        Vector Action space type: discrete\n",
      "        Vector Action space size (per agent): 4\n",
      "        Vector Action descriptions: , , , \n",
      "['__class__', '__delattr__', '__dict__', '__dir__', '__doc__', '__eq__', '__format__', '__ge__', '__getattribute__', '__gt__', '__hash__', '__init__', '__init_subclass__', '__le__', '__lt__', '__module__', '__ne__', '__new__', '__reduce__', '__reduce_ex__', '__repr__', '__setattr__', '__sizeof__', '__str__', '__subclasshook__', '__weakref__', 'brain_name', 'camera_resolutions', 'num_stacked_vector_observations', 'number_visual_observations', 'vector_action_descriptions', 'vector_action_space_size', 'vector_action_space_type', 'vector_observation_space_size', 'vector_observation_space_type']\n"
     ]
    }
   ],
   "source": [
    "print(brain)\n",
    "print(dir(brain))\n"
   ]
  },
  {
   "cell_type": "markdown",
   "metadata": {},
   "source": [
    "### 2. Examine the State and Action Spaces\n",
    "\n",
    "The simulation contains a single agent that navigates a large environment.  At each time step, it has four actions at its disposal:\n",
    "- `0` - walk forward \n",
    "- `1` - walk backward\n",
    "- `2` - turn left\n",
    "- `3` - turn right\n",
    "\n",
    "The state space has `37` dimensions and contains the agent's velocity, along with ray-based perception of objects around agent's forward direction.  A reward of `+1` is provided for collecting a yellow banana, and a reward of `-1` is provided for collecting a blue banana. \n",
    "\n",
    "Run the code cell below to print some information about the environment."
   ]
  },
  {
   "cell_type": "code",
   "execution_count": 9,
   "metadata": {},
   "outputs": [
    {
     "name": "stdout",
     "output_type": "stream",
     "text": [
      "Number of agents: 1\n",
      "Number of actions: 4\n",
      "States look like: [1.         0.         0.         0.         0.84408134 0.\n",
      " 0.         1.         0.         0.0748472  0.         1.\n",
      " 0.         0.         0.25755    1.         0.         0.\n",
      " 0.         0.74177343 0.         1.         0.         0.\n",
      " 0.25854847 0.         0.         1.         0.         0.09355672\n",
      " 0.         1.         0.         0.         0.31969345 0.\n",
      " 0.        ]\n",
      "States have length: 37\n"
     ]
    }
   ],
   "source": [
    "# reset the environment\n",
    "env_info = env.reset(train_mode=True)[brain_name]\n",
    "\n",
    "# number of agents in the environment\n",
    "print('Number of agents:', len(env_info.agents))\n",
    "\n",
    "# number of actions\n",
    "action_size = brain.vector_action_space_size\n",
    "print('Number of actions:', action_size)\n",
    "\n",
    "# examine the state space \n",
    "state = env_info.vector_observations[0]\n",
    "print('States look like:', state)\n",
    "state_size = len(state)\n",
    "print('States have length:', state_size)"
   ]
  },
  {
   "cell_type": "code",
   "execution_count": 10,
   "metadata": {},
   "outputs": [
    {
     "name": "stdout",
     "output_type": "stream",
     "text": [
      "<unityagents.brain.BrainInfo object at 0x000001EA31E62B70> ['__class__', '__delattr__', '__dict__', '__dir__', '__doc__', '__eq__', '__format__', '__ge__', '__getattribute__', '__gt__', '__hash__', '__init__', '__init_subclass__', '__le__', '__lt__', '__module__', '__ne__', '__new__', '__reduce__', '__reduce_ex__', '__repr__', '__setattr__', '__sizeof__', '__str__', '__subclasshook__', '__weakref__', 'agents', 'local_done', 'max_reached', 'memories', 'previous_text_actions', 'previous_vector_actions', 'rewards', 'text_observations', 'vector_observations', 'visual_observations']\n"
     ]
    }
   ],
   "source": [
    "print(env_info,dir(env_info))\n"
   ]
  },
  {
   "cell_type": "code",
   "execution_count": 11,
   "metadata": {},
   "outputs": [
    {
     "name": "stdout",
     "output_type": "stream",
     "text": [
      "{'BananaBrain': <unityagents.brain.BrainParameters object at 0x000001EA31E62EB8>}\n"
     ]
    }
   ],
   "source": [
    "print(env.brains)"
   ]
  },
  {
   "cell_type": "code",
   "execution_count": 12,
   "metadata": {},
   "outputs": [
    {
     "name": "stdout",
     "output_type": "stream",
     "text": [
      "[]\n",
      "['']\n",
      "[[0.]]\n",
      "['']\n",
      "[]\n"
     ]
    }
   ],
   "source": [
    "print(env_info.memories)\n",
    "print(env_info.previous_text_actions)\n",
    "print(env_info.previous_vector_actions)\n",
    "print(env_info.text_observations)\n",
    "print(env_info.visual_observations)\n"
   ]
  },
  {
   "cell_type": "markdown",
   "metadata": {},
   "source": [
    "### 3. Take Random Actions in the Environment\n",
    "\n",
    "In the next code cell, you will learn how to use the Python API to control the agent and receive feedback from the environment.\n",
    "\n",
    "Once this cell is executed, you will watch the agent's performance, if it selects an action (uniformly) at random with each time step.  A window should pop up that allows you to observe the agent, as it moves through the environment.  \n",
    "\n",
    "Of course, as part of the project, you'll have to change the code so that the agent is able to use its experience to gradually choose better actions when interacting with the environment!"
   ]
  },
  {
   "cell_type": "code",
   "execution_count": 13,
   "metadata": {},
   "outputs": [
    {
     "name": "stdout",
     "output_type": "stream",
     "text": [
      "i:  1\n",
      "i, final score:  1 0.0\n",
      "i:  2\n",
      "i, final score:  2 1.0\n",
      "i:  3\n",
      "i, final score:  3 1.0\n",
      "i:  4\n",
      "i, final score:  4 -2.0\n",
      "i:  5\n",
      "i, final score:  5 -2.0\n",
      "i:  6\n",
      "i, final score:  6 0.0\n",
      "i:  7\n",
      "i, final score:  7 0.0\n",
      "i:  8\n",
      "i, final score:  8 0.0\n",
      "i:  9\n",
      "i, final score:  9 -1.0\n",
      "i:  10\n",
      "i, final score:  10 1.0\n"
     ]
    }
   ],
   "source": [
    "#NOTE 2/18/2022 KAE: this was in the project previously so we kept it in as part of the \"project\", normally would remove\n",
    "n_episodes = 10\n",
    "for i_episode in range(1, n_episodes+1):\n",
    "    print('i: ',i_episode)\n",
    "    env_info = env.reset(train_mode=True)[brain_name] # reset the environment\n",
    "    state = env_info.vector_observations[0]            # get the current state\n",
    "    score = 0                                          # initialize the score\n",
    "    while True:\n",
    "        action = np.random.randint(action_size)        # select an action\n",
    "        env_info = env.step(action)[brain_name]        # send the action to the environment\n",
    "        next_state = env_info.vector_observations[0]   # get the next state\n",
    "        reward = env_info.rewards[0]                   # get the reward\n",
    "        done = env_info.local_done[0]                  # see if episode has finished\n",
    "        score += reward                                # update the score\n",
    "        state = next_state                             # roll over the state to next time step\n",
    "        if done:                                       # exit loop if episode finished\n",
    "            print('i, final score: ',i_episode, score)\n",
    "            break\n",
    "            \n"
   ]
  },
  {
   "cell_type": "code",
   "execution_count": 14,
   "metadata": {},
   "outputs": [
    {
     "name": "stdout",
     "output_type": "stream",
     "text": [
      "i:  1\n",
      "i, final score:  1 -1.0\n",
      "i:  2\n",
      "i, final score:  2 1.0\n"
     ]
    }
   ],
   "source": [
    "#NOTE 2/18/2022 KAE: this was in the project previously so we kept it in as part of the \"project\", normally would remove\n",
    "n_episodes = 2\n",
    "for i_episode in range(1, n_episodes+1):\n",
    "    print('i: ',i_episode)\n",
    "    env_info = env.reset(train_mode=False)[brain_name] # reset the environment\n",
    "    state = env_info.vector_observations[0]            # get the current state\n",
    "    score = 0                                          # initialize the score\n",
    "    while True:\n",
    "        action = np.random.randint(action_size)        # select an action\n",
    "        env_info = env.step(action)[brain_name]        # send the action to the environment\n",
    "        next_state = env_info.vector_observations[0]   # get the next state\n",
    "        reward = env_info.rewards[0]                   # get the reward\n",
    "        done = env_info.local_done[0]                  # see if episode has finished\n",
    "        score += reward                                # update the score\n",
    "        state = next_state                             # roll over the state to next time step\n",
    "        if done:                                       # exit loop if episode finished\n",
    "            print('i, final score: ',i_episode,score)\n",
    "            break\n",
    "            \n"
   ]
  },
  {
   "cell_type": "markdown",
   "metadata": {},
   "source": [
    "When finished, you can close the environment."
   ]
  },
  {
   "cell_type": "code",
   "execution_count": 15,
   "metadata": {},
   "outputs": [],
   "source": [
    "#NOTE this seems to end the session COMPLETELY so moving it to bottom of page....\n",
    "#env.close()"
   ]
  },
  {
   "cell_type": "markdown",
   "metadata": {},
   "source": [
    "### 4. It's Your Turn!\n",
    "\n",
    "Now it's your turn to train your own agent to solve the environment!  When training the environment, set `train_mode=True`, so that the line for resetting the environment looks like the following:\n",
    "```python\n",
    "env_info = env.reset(train_mode=True)[brain_name]\n",
    "```"
   ]
  },
  {
   "cell_type": "markdown",
   "metadata": {},
   "source": [
    "# PRELIMINARY NOTES:\n",
    "Ran the random actions and get a score of 0.0 running the above default. We assume this is normal as the video fails to provide this key element but it \"makes sense\"\n",
    "\n",
    "Our expectation based in the instructions is to start with our DQN model we used prior and to adjust to fit into this different (Unity) paradym for starters\n",
    "\n",
    "HOwever we can start with just importing the model and agent as before. Locally we've renamed them dqn_model.py and dqn_agent.py. We found this model \n",
    "\n",
    "## APPROACH\n",
    "Some of the internal or hyperparameters we started with the default expecting to make further refinements and network adjustments, but none were needed because the defaults trained quickly (< 500 episodes). The two included python files are dqn_model.py, which contains the QNetwork implementation (only seen by the agent), and dqn_agent.py, which contains the Agent class and the supporting ReplayBuffer class to store the experiences in tuples.\n",
    "\n",
    "QNetwork is composed of 3 fully connected layers with two NN internal sizes: fc1_size=64 and fc2_size=64 using RELU activation functions along with an initial state_size and a final action_size to map into the bananas input (state) and output (action) environment, composed of a __init__ function to be invoked on class creation and the forward method using the NN to convert the current state into an action.\n",
    "\n",
    "Agent: the initial agent solution used in the DQN mini project was (intially) used as-is with the following Hyperparamters:\n",
    "Buffer size: 100,000\n",
    "batch size: 64\n",
    "gamma: 0.99 # discount factor for subsequent rewards\n",
    "tau: 1e-3, # soft update of the target parameters\n",
    "LR: 5e-4, # learning rate\n",
    "UPDATE_EVERY: 4, how often to update the network\n",
    "The Agent class itself si composed on an __init__ fuction for construction, which creates the two qnetworks, one that is local and one that is the target network, along with the optimizer and memory buffer from the ReplayBuffer class to store experiences. The step method adds the current experience into the memory buffer, and every UPDATE_EVERY steps stores the experience into memory and exectutes the learn fucntion.\n",
    "The act method returns actions for a given state given current policy. It does this by evaluating (eval) the local qnetwork and get new actions from the local qnetwork and train the local network and finally select actions either randomly (if a random toss is bigger than hyper parameter eps, which for our setup has a start (max), end(min) and a decay (multiplier to determine new eps value)\n",
    "The learn method was the one previously for which we had to provide the appropriate solutions. Here we unpack the tuple experiences into states, actions, rewards, next_states, and dones. The next_states are used in the target (NOT local) qnetwork to get the next target actions and then detached from the resulting tensor to make a true copy and then access Qtable for the next action and hence rewards of the target network. The resulting tensor has to be (carefully) unpacked to get it into the correct form to be used in subsequent calculations. Finally we get the next action results from the local qnetwork and then dtermine the MSE loss between the target and local networks. Finally we zero_grad the optimizer, propagate the loss backwards through the network and finally perform a step in the optimizer. Finally a soft update is performed on the target network, using TAU times the local network parameters and (1-TAU) times the target network.\n",
    "\n",
    "As indicated the original DQN agent had a helper class ReplayBuffer, with methods add, to add experiences to the buffer, and sample, to sample experiences from the buffer, and is used extensively in the step method for the agent.\n",
    "\n",
    "As a further note we wanted to look at some of the post-dqn approaches, especially the dueling networks and the prioritized experience replay. However since these were mainly modifications of the internal workings of the agents and the like we felt that it was best to first get the baseline DQN running and then see if there are problems about possibly making these modifications.\n",
    "\n",
    "So we start with our original agent and model, which we've imported locally, renamed and will import as dqn_agent package for this effort (having changed the name appropriately in dqn_agent). Next we will define our agent and finally import the dqn function and modify it appropriately for the unity setup"
   ]
  },
  {
   "cell_type": "code",
   "execution_count": 16,
   "metadata": {},
   "outputs": [],
   "source": [
    "from dqn_agent import Agent"
   ]
  },
  {
   "cell_type": "code",
   "execution_count": 17,
   "metadata": {},
   "outputs": [],
   "source": [
    "#NOTE: we tried restarting the env from here after closing the previous one but \n",
    "#env = UnityEnvironment(file_name=\"C:/Users/Kirk/AI_Udacity_Classes/deep-reinforcement-learning-master/p1_navigation/Banana.exe\")\n",
    "## get the default brain\n",
    "#brain_name = env.brain_names[0]\n",
    "#brain = env.brains[brain_name]\n",
    "\n",
    "## reset the environment\n",
    "#env_info = env.reset(train_mode=True)[brain_name]\n",
    "\n",
    "\n",
    "## number of actions\n",
    "#action_size = brain.vector_action_space_size\n",
    "#print('Number of actions:', action_size)\n",
    "\n",
    "## examine the state space \n",
    "#state = env_info.vector_observations[0]\n",
    "#print('States look like:', state)\n",
    "#state_size = len(state)\n",
    "\n"
   ]
  },
  {
   "cell_type": "code",
   "execution_count": 18,
   "metadata": {},
   "outputs": [
    {
     "name": "stdout",
     "output_type": "stream",
     "text": [
      "Number of agents: 1\n"
     ]
    }
   ],
   "source": [
    "len_agents = len(env_info.agents)\n",
    "# number of agents in the environment\n",
    "print('Number of agents:', len_agents)\n",
    "#from dqn_agent import Agent\n",
    "agent = Agent(state_size=state_size, action_size=action_size, seed=0)"
   ]
  },
  {
   "cell_type": "markdown",
   "metadata": {},
   "source": [
    "## Connecting with Unity instead of Gym\n",
    "There are a few differences between AIGym and Unity; namely\n",
    "we'll need to pass in \n",
    "1) env, env_info and we want to be clear and pass in the above agent as well"
   ]
  },
  {
   "cell_type": "code",
   "execution_count": 19,
   "metadata": {},
   "outputs": [],
   "source": [
    "#env_info = env.reset(train_mode=True)[brain_name] # reset the environment"
   ]
  },
  {
   "cell_type": "code",
   "execution_count": 20,
   "metadata": {},
   "outputs": [],
   "source": [
    "#def dqn(agent, env, env_info, n_episodes=2000, max_t=1000, eps_start=1.0, eps_end=0.01, \n",
    "#        eps_decay=0.995, dprint=100):\n",
    "def dqn(agent, env, brain_name, train_mode=True, n_episodes=2000, max_t=1000, eps_start=1.0, eps_end=0.01, \n",
    "        eps_decay=0.995, dprint=100, MAX_SCORE=13.0):\n",
    "    \"\"\"Deep Q-Learning.\n",
    "    \n",
    "    Params\n",
    "    ======\n",
    "        agent: agent class with embedded model\n",
    "        env: environment class, now from unity\n",
    "        n_episodes (int): maximum number of training episodes\n",
    "        max_t (int): maximum number of timesteps per episode\n",
    "        eps_start (float): starting value of epsilon, for epsilon-greedy action selection\n",
    "        eps_end (float): minimum value of epsilon\n",
    "        eps_decay (float): multiplicative factor (per episode) for decreasing epsilon\n",
    "    \"\"\"\n",
    "    scores = []                        # list containing scores from each episode\n",
    "    scores_window = deque(maxlen=100)  # last 100 scores\n",
    "    eps = eps_start                    # initialize epsilon\n",
    "    prev_score = 0\n",
    "    print('before episodes:',str(env))\n",
    "    for i_episode in range(1, n_episodes+1):\n",
    "        env_info = env.reset(train_mode=train_mode)[brain_name]\n",
    "        state = env_info.vector_observations[0]            # get the current state\n",
    "        score = 0\n",
    "        for t in range(max_t):\n",
    "            action = agent.act(state, eps)\n",
    "            env_info = env.step(action)[brain_name]        # send the action to the environment\n",
    "            \n",
    "            # NOTE: steal the way of getting next_state, reward, done from environment\n",
    "            next_state = env_info.vector_observations[0]   # get the next state\n",
    "            reward = env_info.rewards[0]                   # get the reward\n",
    "            done = env_info.local_done[0]                  # see if episode has finished\n",
    "            if train_mode:\n",
    "                agent.step(state, action, reward, next_state, done)\n",
    "    \n",
    "            state = next_state\n",
    "            score += reward\n",
    "            if score > prev_score:\n",
    "                prev_score = score\n",
    "            \n",
    "            if done:\n",
    "                break \n",
    "        scores_window.append(score)       # save most recent score\n",
    "        scores.append(score)              # save most recent score\n",
    "        eps = max(eps_end, eps_decay*eps) # decrease epsilon\n",
    "        if i_episode % dprint == 0:\n",
    "            print('\\rEpisode {}\\tAverage Score: {:.2f}'.format(i_episode, np.mean(scores_window)))\n",
    "        if (np.mean(scores_window)>= MAX_SCORE):\n",
    "            print('\\nEnvironment solved in {:d} episodes!\\tAverage Score: {:.2f}'.format(i_episode-100, np.mean(scores_window)))\n",
    "            if  train_mode:\n",
    "                torch.save(agent.qnetwork_local.state_dict(), 'checkpoint.pth')\n",
    "            break\n",
    "    return scores\n",
    "\n",
    "\n"
   ]
  },
  {
   "cell_type": "code",
   "execution_count": 21,
   "metadata": {},
   "outputs": [
    {
     "name": "stdout",
     "output_type": "stream",
     "text": [
      "before episodes: Unity Academy name: Academy\n",
      "        Number of Brains: 1\n",
      "        Number of External Brains : 1\n",
      "        Lesson number : 0\n",
      "        Reset Parameters :\n",
      "\t\t\n",
      "Unity brain name: BananaBrain\n",
      "        Number of Visual Observations (per agent): 0\n",
      "        Vector Observation space type: continuous\n",
      "        Vector Observation space size (per agent): 37\n",
      "        Number of stacked Vector Observation: 1\n",
      "        Vector Action space type: discrete\n",
      "        Vector Action space size (per agent): 4\n",
      "        Vector Action descriptions: , , , \n",
      "Episode 10\tAverage Score: -0.30\n",
      "Episode 20\tAverage Score: -0.45\n",
      "Episode 30\tAverage Score: -0.40\n",
      "Episode 40\tAverage Score: -0.28\n",
      "Episode 50\tAverage Score: -0.10\n",
      "Episode 60\tAverage Score: 0.08\n",
      "Episode 70\tAverage Score: 0.14\n",
      "Episode 80\tAverage Score: 0.23\n",
      "Episode 90\tAverage Score: 0.23\n",
      "Episode 100\tAverage Score: 0.41\n",
      "Episode 110\tAverage Score: 0.57\n",
      "Episode 120\tAverage Score: 0.88\n",
      "Episode 130\tAverage Score: 1.17\n",
      "Episode 140\tAverage Score: 1.56\n",
      "Episode 150\tAverage Score: 1.77\n",
      "Episode 160\tAverage Score: 2.13\n",
      "Episode 170\tAverage Score: 2.41\n",
      "Episode 180\tAverage Score: 2.77\n",
      "Episode 190\tAverage Score: 3.47\n",
      "Episode 200\tAverage Score: 3.76\n",
      "Episode 210\tAverage Score: 4.18\n",
      "Episode 220\tAverage Score: 4.50\n",
      "Episode 230\tAverage Score: 4.99\n",
      "Episode 240\tAverage Score: 5.41\n",
      "Episode 250\tAverage Score: 5.99\n",
      "Episode 260\tAverage Score: 6.13\n",
      "Episode 270\tAverage Score: 6.28\n",
      "Episode 280\tAverage Score: 6.57\n",
      "Episode 290\tAverage Score: 6.70\n",
      "Episode 300\tAverage Score: 7.01\n",
      "Episode 310\tAverage Score: 7.28\n",
      "Episode 320\tAverage Score: 7.51\n",
      "Episode 330\tAverage Score: 7.66\n",
      "Episode 340\tAverage Score: 7.75\n",
      "Episode 350\tAverage Score: 7.81\n",
      "Episode 360\tAverage Score: 8.11\n",
      "Episode 370\tAverage Score: 8.59\n",
      "Episode 380\tAverage Score: 8.99\n",
      "Episode 390\tAverage Score: 9.14\n",
      "Episode 400\tAverage Score: 9.21\n",
      "Episode 410\tAverage Score: 9.56\n",
      "Episode 420\tAverage Score: 10.04\n",
      "Episode 430\tAverage Score: 10.36\n",
      "Episode 440\tAverage Score: 10.65\n",
      "Episode 450\tAverage Score: 10.96\n",
      "Episode 460\tAverage Score: 11.31\n",
      "Episode 470\tAverage Score: 11.59\n",
      "Episode 480\tAverage Score: 11.72\n",
      "Episode 490\tAverage Score: 12.19\n",
      "Episode 500\tAverage Score: 12.51\n",
      "Episode 510\tAverage Score: 12.43\n",
      "Episode 520\tAverage Score: 12.45\n",
      "Episode 530\tAverage Score: 12.57\n",
      "Episode 540\tAverage Score: 12.66\n",
      "\n",
      "Environment solved in 448 episodes!\tAverage Score: 13.06\n"
     ]
    }
   ],
   "source": [
    "#scores = dqn(agent, env, brain_name, train_mode=True, n_episodes=20, max_t=100, eps_start=1.0, \n",
    "#             eps_end=0.01, eps_decay=0.995, dprint=1)\n",
    "scores = dqn(agent, env, brain_name, train_mode=True, n_episodes=2000, max_t=1000, eps_start=1.0, \n",
    "             eps_end=0.01, eps_decay=0.995, dprint=10)\n",
    "#scores = dqn(agent, env, env_info, n_episodes=20, max_t=100, eps_start=1.0, \n",
    "#             eps_end=0.01, eps_decay=0.995, dprint=100)\n",
    "#scores = dqn(agent, env, env_info, n_episodes=2000, max_t=1000, eps_start=1.0, \n",
    "#            eps_end=0.01, eps_decay=0.995, dprint=100)\n",
    "\n"
   ]
  },
  {
   "cell_type": "code",
   "execution_count": 22,
   "metadata": {},
   "outputs": [
    {
     "data": {
      "image/png": "[encoded data removed]",
      "text/plain": [
       "<Figure size 432x288 with 1 Axes>"
      ]
     },
     "metadata": {
      "needs_background": "light"
     },
     "output_type": "display_data"
    }
   ],
   "source": [
    "# plot the scores\n",
    "fig = plt.figure()\n",
    "ax = fig.add_subplot(111)\n",
    "plt.plot(np.arange(len(scores)), scores)\n",
    "plt.ylabel('Score')\n",
    "plt.xlabel('Episode #')\n",
    "plt.show()\n",
    "\n"
   ]
  },
  {
   "cell_type": "code",
   "execution_count": 23,
   "metadata": {},
   "outputs": [
    {
     "name": "stdout",
     "output_type": "stream",
     "text": [
      "before episodes: Unity Academy name: Academy\n",
      "        Number of Brains: 1\n",
      "        Number of External Brains : 1\n",
      "        Lesson number : 0\n",
      "        Reset Parameters :\n",
      "\t\t\n",
      "Unity brain name: BananaBrain\n",
      "        Number of Visual Observations (per agent): 0\n",
      "        Vector Observation space type: continuous\n",
      "        Vector Observation space size (per agent): 37\n",
      "        Number of stacked Vector Observation: 1\n",
      "        Vector Action space type: discrete\n",
      "        Vector Action space size (per agent): 4\n",
      "        Vector Action descriptions: , , , \n",
      "Episode 10\tAverage Score: 0.00\n",
      "Episode 20\tAverage Score: 0.20\n",
      "Episode 30\tAverage Score: 0.37\n",
      "Episode 40\tAverage Score: 0.57\n",
      "Episode 50\tAverage Score: 0.84\n",
      "Episode 60\tAverage Score: 1.08\n",
      "Episode 70\tAverage Score: 1.21\n",
      "Episode 80\tAverage Score: 1.43\n",
      "Episode 90\tAverage Score: 1.71\n",
      "Episode 100\tAverage Score: 1.85\n",
      "Episode 110\tAverage Score: 2.25\n",
      "Episode 120\tAverage Score: 2.77\n",
      "Episode 130\tAverage Score: 3.18\n",
      "Episode 140\tAverage Score: 3.65\n",
      "Episode 150\tAverage Score: 4.18\n",
      "Episode 160\tAverage Score: 4.57\n",
      "Episode 170\tAverage Score: 5.16\n",
      "Episode 180\tAverage Score: 5.61\n",
      "Episode 190\tAverage Score: 6.07\n",
      "Episode 200\tAverage Score: 6.73\n",
      "Episode 210\tAverage Score: 7.26\n",
      "Episode 220\tAverage Score: 7.42\n",
      "Episode 230\tAverage Score: 7.94\n",
      "Episode 240\tAverage Score: 8.33\n",
      "Episode 250\tAverage Score: 8.49\n",
      "Episode 260\tAverage Score: 8.83\n",
      "Episode 270\tAverage Score: 9.07\n",
      "Episode 280\tAverage Score: 9.19\n",
      "Episode 290\tAverage Score: 9.31\n",
      "Episode 300\tAverage Score: 9.42\n",
      "Episode 310\tAverage Score: 9.36\n",
      "Episode 320\tAverage Score: 9.70\n",
      "Episode 330\tAverage Score: 9.84\n",
      "Episode 340\tAverage Score: 9.95\n",
      "Episode 350\tAverage Score: 10.09\n",
      "Episode 360\tAverage Score: 10.20\n",
      "Episode 370\tAverage Score: 10.25\n",
      "Episode 380\tAverage Score: 10.49\n",
      "Episode 390\tAverage Score: 10.53\n",
      "Episode 400\tAverage Score: 10.52\n",
      "Episode 410\tAverage Score: 10.53\n",
      "Episode 420\tAverage Score: 10.72\n",
      "Episode 430\tAverage Score: 10.74\n",
      "Episode 440\tAverage Score: 10.70\n",
      "Episode 450\tAverage Score: 10.81\n",
      "Episode 460\tAverage Score: 10.99\n",
      "Episode 470\tAverage Score: 11.19\n",
      "Episode 480\tAverage Score: 11.40\n",
      "Episode 490\tAverage Score: 11.64\n",
      "Episode 500\tAverage Score: 11.79\n",
      "Episode 510\tAverage Score: 12.25\n",
      "Episode 520\tAverage Score: 12.33\n",
      "Episode 530\tAverage Score: 12.37\n",
      "Episode 540\tAverage Score: 12.56\n",
      "Episode 550\tAverage Score: 12.67\n",
      "Episode 560\tAverage Score: 13.03\n",
      "\n",
      "Environment solved in 460 episodes!\tAverage Score: 13.03\n"
     ]
    }
   ],
   "source": [
    "agent.qnetwork_local.load_state_dict(torch.load('checkpoint.pth'))\n",
    "agent.qnetwork_local.eval()\n",
    "#env_info = env.reset(train_mode=False)[brain_name] # reset the environment\n",
    "env_info = env.reset(train_mode=False)[brain_name] # reset the environment\n",
    "\n",
    "#scores = dqn(agent, env, brain_name, train_mode=False, n_episodes=2000, max_t=1000, eps_start=1.0, \n",
    "#             eps_end=0.01, eps_decay=0.995, dprint=100)\n",
    "scores = dqn(agent, env, brain_name, train_mode=True, n_episodes=2000, max_t=1000, eps_start=1.0, \n",
    "             eps_end=0.01, eps_decay=0.995, dprint=10)\n"
   ]
  },
  {
   "cell_type": "code",
   "execution_count": 24,
   "metadata": {},
   "outputs": [
    {
     "data": {
      "image/png": "[encoded data removed]",
      "text/plain": [
       "<Figure size 432x288 with 1 Axes>"
      ]
     },
     "metadata": {
      "needs_background": "light"
     },
     "output_type": "display_data"
    }
   ],
   "source": [
    "# plot the scores\n",
    "fig = plt.figure()\n",
    "ax = fig.add_subplot(111)\n",
    "plt.plot(np.arange(len(scores)), scores)\n",
    "plt.ylabel('Score')\n",
    "plt.xlabel('Episode #')\n",
    "plt.title('Testing (train=false)')\n",
    "plt.show()\n"
   ]
  },
  {
   "cell_type": "code",
   "execution_count": 26,
   "metadata": {},
   "outputs": [],
   "source": [
    "agent.qnetwork_local.load_state_dict(torch.load('checkpoint.pth'))\n",
    "agent.qnetwork_local.eval()\n",
    "#env_info = env.reset(train_mode=False)[brain_name] # reset the environment\n",
    "env_info = env.reset(train_mode=False)[brain_name] # reset the environment\n",
    "\n"
   ]
  },
  {
   "cell_type": "code",
   "execution_count": null,
   "metadata": {},
   "outputs": [
    {
     "name": "stdout",
     "output_type": "stream",
     "text": [
      "before episodes: Unity Academy name: Academy\n",
      "        Number of Brains: 1\n",
      "        Number of External Brains : 1\n",
      "        Lesson number : 0\n",
      "        Reset Parameters :\n",
      "\t\t\n",
      "Unity brain name: BananaBrain\n",
      "        Number of Visual Observations (per agent): 0\n",
      "        Vector Observation space type: continuous\n",
      "        Vector Observation space size (per agent): 37\n",
      "        Number of stacked Vector Observation: 1\n",
      "        Vector Action space type: discrete\n",
      "        Vector Action space size (per agent): 4\n",
      "        Vector Action descriptions: , , , \n",
      "Episode 10\tAverage Score: 0.50\n",
      "Episode 20\tAverage Score: 0.25\n",
      "Episode 30\tAverage Score: 0.07\n",
      "Episode 40\tAverage Score: 0.20\n",
      "Episode 50\tAverage Score: 0.30\n",
      "Episode 60\tAverage Score: 0.27\n",
      "Episode 70\tAverage Score: 0.20\n",
      "Episode 80\tAverage Score: 0.23\n",
      "Episode 90\tAverage Score: 0.22\n",
      "Episode 100\tAverage Score: 0.18\n",
      "Episode 110\tAverage Score: 0.10\n",
      "Episode 120\tAverage Score: 0.08\n",
      "Episode 130\tAverage Score: 0.18\n",
      "Episode 140\tAverage Score: 0.10\n",
      "Episode 150\tAverage Score: 0.03\n",
      "Episode 160\tAverage Score: 0.02\n",
      "Episode 170\tAverage Score: 0.07\n",
      "Episode 180\tAverage Score: 0.01\n",
      "Episode 190\tAverage Score: 0.08\n",
      "Episode 200\tAverage Score: 0.07\n"
     ]
    }
   ],
   "source": [
    "#NOTE: This is a stripped down version of the dqn function above in the hopes that somehow \n",
    "#  this will better replicate a true testing environment. I've added the agent step function call\n",
    "#  as this seems to be the main area where things don't make sense. We get very slow perations \n",
    "#  of the dqn testing case when train = False which in that manifistation  also blocks the step call\n",
    "#  which has a \"learn\" calls within it as welll\n",
    "train_mode=False\n",
    "n_episodes=2000\n",
    "max_t=1000\n",
    "eps_start=1.0\n",
    "eps_end=0.01 \n",
    "eps_decay=0.995\n",
    "dprint=10\n",
    "scores = []                        # list containing scores from each episode\n",
    "MAX_SCORE = 13.0\n",
    "scores_window = deque(maxlen=100)  # last 100 scores\n",
    "eps = eps_start                    # initialize epsilon\n",
    "print('before episodes:',str(env))\n",
    "for i_episode in range(1, n_episodes+1):\n",
    "        env_info = env.reset(train_mode=train_mode)[brain_name]\n",
    "        state = env_info.vector_observations[0]            # get the current state\n",
    "        score = 0\n",
    "        for t in range(max_t):\n",
    "            action = agent.act(state, eps)\n",
    "            env_info = env.step(action)[brain_name]        # send the action to the environment\n",
    "            \n",
    "            # NOTE: steal the way of getting next_state, reward, done from environment\n",
    "            next_state = env_info.vector_observations[0]   # get the next state\n",
    "            reward = env_info.rewards[0]                   # get the reward\n",
    "            done = env_info.local_done[0]                  # see if episode has finished\n",
    "#            if train_mode:\n",
    "#                agent.step(state, action, reward, next_state, done)\n",
    "            agent.step(state, action, reward, next_state, done)\n",
    "    \n",
    "            state = next_state\n",
    "            score += reward\n",
    "            \n",
    "            if done:\n",
    "                break \n",
    "        scores_window.append(score)       # save most recent score\n",
    "        scores.append(score)              # save most recent score\n",
    "        if i_episode % dprint == 0:\n",
    "            print('\\rEpisode {}\\tAverage Score: {:.2f}'.format(i_episode, np.mean(scores_window)))\n",
    "        if (np.mean(scores_window)>= MAX_SCORE):\n",
    "            print('\\nTest Environment processed in {:d} episodes!\\tAverage Score: {:.2f}'.format(i_episode-100, np.mean(scores_window)))\n"
   ]
  },
  {
   "cell_type": "code",
   "execution_count": null,
   "metadata": {},
   "outputs": [],
   "source": [
    "# plot the scores\n",
    "fig = plt.figure()\n",
    "ax = fig.add_subplot(111)\n",
    "plt.plot(np.arange(len(scores)), scores)\n",
    "plt.ylabel('Score')\n",
    "plt.xlabel('Episode #')\n",
    "plt.show()\n"
   ]
  },
  {
   "cell_type": "code",
   "execution_count": null,
   "metadata": {},
   "outputs": [],
   "source": [
    "env.close()"
   ]
  },
  {
   "cell_type": "code",
   "execution_count": null,
   "metadata": {},
   "outputs": [],
   "source": []
  }
 ],
 "metadata": {
  "kernelspec": {
   "display_name": "drlnd",
   "language": "python",
   "name": "drlnd"
  },
  "language_info": {
   "codemirror_mode": {
    "name": "ipython",
    "version": 3
   },
   "file_extension": ".py",
   "mimetype": "text/x-python",
   "name": "python",
   "nbconvert_exporter": "python",
   "pygments_lexer": "ipython3",
   "version": "3.6.13"
  }
 },
 "nbformat": 4,
 "nbformat_minor": 2
}
